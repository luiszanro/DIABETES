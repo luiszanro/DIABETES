{
 "cells": [
  {
   "cell_type": "code",
   "execution_count": null,
   "id": "906c594b",
   "metadata": {},
   "outputs": [
    {
     "name": "stdout",
     "output_type": "stream",
     "text": [
      "       Chest_Pain  Shortness_of_Breath  Fatigue  Palpitations  Dizziness  \\\n",
      "0             0.0                  0.0      0.0           1.0        0.0   \n",
      "1             0.0                  1.0      0.0           1.0        0.0   \n",
      "2             1.0                  0.0      0.0           1.0        0.0   \n",
      "3             1.0                  1.0      0.0           1.0        0.0   \n",
      "4             0.0                  0.0      1.0           0.0        1.0   \n",
      "...           ...                  ...      ...           ...        ...   \n",
      "69995         0.0                  0.0      1.0           0.0        0.0   \n",
      "69996         1.0                  1.0      1.0           0.0        1.0   \n",
      "69997         0.0                  0.0      0.0           0.0        0.0   \n",
      "69998         1.0                  1.0      0.0           1.0        1.0   \n",
      "69999         1.0                  1.0      1.0           1.0        1.0   \n",
      "\n",
      "       Swelling  Pain_Arms_Jaw_Back  Cold_Sweats_Nausea  High_BP  \\\n",
      "0           0.0                 0.0                 0.0      0.0   \n",
      "1           0.0                 0.0                 0.0      1.0   \n",
      "2           0.0                 0.0                 0.0      1.0   \n",
      "3           0.0                 1.0                 1.0      1.0   \n",
      "4           0.0                 0.0                 0.0      0.0   \n",
      "...         ...                 ...                 ...      ...   \n",
      "69995       0.0                 0.0                 0.0      0.0   \n",
      "69996       1.0                 1.0                 1.0      1.0   \n",
      "69997       0.0                 1.0                 0.0      0.0   \n",
      "69998       0.0                 1.0                 1.0      1.0   \n",
      "69999       1.0                 1.0                 0.0      1.0   \n",
      "\n",
      "       High_Cholesterol  Diabetes  Smoking  Obesity  Sedentary_Lifestyle  \\\n",
      "0                   0.0       0.0      1.0      0.0                  1.0   \n",
      "1                   0.0       0.0      1.0      1.0                  0.0   \n",
      "2                   1.0       0.0      1.0      1.0                  1.0   \n",
      "3                   0.0       1.0      1.0      0.0                  1.0   \n",
      "4                   0.0       1.0      0.0      0.0                  0.0   \n",
      "...                 ...       ...      ...      ...                  ...   \n",
      "69995               0.0       1.0      0.0      0.0                  1.0   \n",
      "69996               1.0       0.0      1.0      0.0                  1.0   \n",
      "69997               0.0       1.0      0.0      0.0                  0.0   \n",
      "69998               1.0       1.0      0.0      1.0                  1.0   \n",
      "69999               0.0       1.0      0.0      1.0                  0.0   \n",
      "\n",
      "       Family_History  Chronic_Stress  Gender   Age  Heart_Risk  \n",
      "0                 0.0             0.0     0.0  48.0         0.0  \n",
      "1                 0.0             0.0     0.0  46.0         0.0  \n",
      "2                 0.0             0.0     1.0  66.0         0.0  \n",
      "3                 1.0             1.0     1.0  60.0         1.0  \n",
      "4                 0.0             0.0     0.0  69.0         0.0  \n",
      "...               ...             ...     ...   ...         ...  \n",
      "69995             1.0             0.0     0.0  30.0         0.0  \n",
      "69996             1.0             1.0     1.0  56.0         1.0  \n",
      "69997             0.0             1.0     1.0  53.0         0.0  \n",
      "69998             1.0             0.0     1.0  57.0         1.0  \n",
      "69999             0.0             1.0     0.0  51.0         1.0  \n",
      "\n",
      "[70000 rows x 19 columns]\n"
     ]
    }
   ],
   "source": [
    "\n",
    "import pandas as pd \n",
    "df = pd.read_csv(r\"heart_disease_risk_dataset_earlymed.csv\")\n",
    "print(df)\n"
   ]
  },
  {
   "cell_type": "code",
   "execution_count": null,
   "id": "5d4d946a",
   "metadata": {},
   "outputs": [
    {
     "name": "stdout",
     "output_type": "stream",
     "text": [
      "hello\n"
     ]
    }
   ],
   "source": []
  }
 ],
 "metadata": {
  "kernelspec": {
   "display_name": "Python 3",
   "language": "python",
   "name": "python3"
  },
  "language_info": {
   "codemirror_mode": {
    "name": "ipython",
    "version": 3
   },
   "file_extension": ".py",
   "mimetype": "text/x-python",
   "name": "python",
   "nbconvert_exporter": "python",
   "pygments_lexer": "ipython3",
   "version": "3.13.3"
  }
 },
 "nbformat": 4,
 "nbformat_minor": 5
}
